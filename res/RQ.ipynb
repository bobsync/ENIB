{
 "cells": [
  {
   "cell_type": "markdown",
   "id": "c7eb13a6",
   "metadata": {},
   "source": [
    "# **Data Analysis - Research Question - Audrey**\n",
    "\n",
    "Questo notebook si propone di analizzare i dati raccolti per rispondere alle 8 domande di ricerca (Research Questions, RQ) del progetto.  \n",
    "Per ciascuna RQ verranno eseguite analisi statistiche quantitative e, dove richiesto, analisi qualitative, seguendo le specifiche metodologiche fornite."
   ]
  },
  {
   "cell_type": "code",
   "execution_count": 1,
   "id": "37c0a45d",
   "metadata": {},
   "outputs": [],
   "source": [
    "import pandas as pd\n",
    "import matplotlib.pyplot as plt\n",
    "import seaborn as sns"
   ]
  },
  {
   "cell_type": "code",
   "execution_count": null,
   "id": "629321f4",
   "metadata": {},
   "outputs": [],
   "source": [
    "file_path = 'ShortVRCombined.xlsx'\n",
    "\n",
    "try:\n",
    "    xls = pd.ExcelFile(file_path)\n",
    "    final_sheet_name = xls.sheet_names[-1]\n",
    "    df_final = pd.read_excel(xls, sheet_name=final_sheet_name)\n",
    "    \n",
    "    df_final.rename(columns={df_final.columns[0]: 'ID'}, inplace=True)\n",
    "    df_final.set_index('ID', inplace=True)\n",
    "    \n",
    "    df_anagrafica = df_final.iloc[:, :7]\n",
    "    df_quantitativo = df_final.iloc[:, 8:22]\n",
    "    df_risposte_aperte = df_final.iloc[:, 22:]\n",
    "\n",
    "except FileNotFoundError:\n",
    "    print(f\"Errore: Il file '{file_path}' non è stato trovato.\")\n",
    "except Exception as e:\n",
    "    print(f\"Si è verificato un errore: {e}\")"
   ]
  },
  {
   "cell_type": "markdown",
   "id": "1c0716e1",
   "metadata": {},
   "source": [
    "## RQ1: Do commensal robots provide a more enjoyable eating experience than eating alone?\n",
    "\n",
    "**Variables:**  \n",
    "- Enjoyment of Interaction Questionnaire  \n",
    "- PANAS-GEN  \n",
    "- PANAS-SIT  \n",
    "- Qualitative Question #7  \n",
    "\n",
    "The PANAS-GEN will be compared to the PANAS-SIT to create a difference score on which to run the MANOVA.\n",
    "\n",
    "A one-way MANOVA will be conducted with **condition** as the independent variable (IV), and **PANAS-Diff** and **Enjoyment of Interaction** as the dependent variables (DVs).\n",
    "\n",
    "A Grounded Theory analysis will be conducted on the qualitative data."
   ]
  },
  {
   "cell_type": "markdown",
   "id": "5f971d75",
   "metadata": {},
   "source": [
    "# RQ2: Connectedness"
   ]
  },
  {
   "cell_type": "markdown",
   "id": "45657c54",
   "metadata": {},
   "source": [
    "# RQ3: Eating Pace "
   ]
  },
  {
   "cell_type": "markdown",
   "id": "d9a19b51",
   "metadata": {},
   "source": [
    "# RQ4: Personality  "
   ]
  },
  {
   "cell_type": "markdown",
   "id": "a3989700",
   "metadata": {},
   "source": [
    "# RQ5: Affect  "
   ]
  },
  {
   "cell_type": "markdown",
   "id": "cd7ddd4e",
   "metadata": {},
   "source": [
    "# RQ6: Loneliness  "
   ]
  },
  {
   "cell_type": "markdown",
   "id": "954ca26d",
   "metadata": {},
   "source": [
    "# RQ7: Commensality Habits  "
   ]
  },
  {
   "cell_type": "markdown",
   "id": "19f64a82",
   "metadata": {},
   "source": [
    "# RQ8: Technology Use During Meals"
   ]
  }
 ],
 "metadata": {
  "kernelspec": {
   "display_name": "venv",
   "language": "python",
   "name": "python3"
  },
  "language_info": {
   "codemirror_mode": {
    "name": "ipython",
    "version": 3
   },
   "file_extension": ".py",
   "mimetype": "text/x-python",
   "name": "python",
   "nbconvert_exporter": "python",
   "pygments_lexer": "ipython3",
   "version": "3.10.11"
  }
 },
 "nbformat": 4,
 "nbformat_minor": 5
}
